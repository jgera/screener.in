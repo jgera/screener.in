{
 "cells": [
  {
   "cell_type": "code",
   "execution_count": 1,
   "id": "af4f2aff",
   "metadata": {},
   "outputs": [],
   "source": [
    "symbol = \"tcs\""
   ]
  },
  {
   "cell_type": "code",
   "execution_count": 2,
   "id": "14bce438",
   "metadata": {},
   "outputs": [],
   "source": [
    "api = \"https://www.screener.in/api/company/search/?q=\" + symbol"
   ]
  },
  {
   "cell_type": "code",
   "execution_count": 3,
   "id": "9c5fd9c4",
   "metadata": {},
   "outputs": [],
   "source": [
    "import json"
   ]
  },
  {
   "cell_type": "code",
   "execution_count": 4,
   "id": "1b5ad2e5",
   "metadata": {},
   "outputs": [],
   "source": [
    "from urlread import *"
   ]
  },
  {
   "cell_type": "code",
   "execution_count": 5,
   "id": "8611009a",
   "metadata": {},
   "outputs": [],
   "source": [
    "d = urlread(api)"
   ]
  },
  {
   "cell_type": "code",
   "execution_count": 8,
   "id": "7cfb9fed",
   "metadata": {},
   "outputs": [],
   "source": [
    "j = json.loads(d)"
   ]
  },
  {
   "cell_type": "code",
   "execution_count": 10,
   "id": "2c6e368d",
   "metadata": {},
   "outputs": [
    {
     "data": {
      "text/plain": [
       "{'id': 3365,\n",
       " 'name': 'Tata Consultancy Services Ltd',\n",
       " 'url': '/company/TCS/consolidated/'}"
      ]
     },
     "execution_count": 10,
     "metadata": {},
     "output_type": "execute_result"
    }
   ],
   "source": [
    "j[0]"
   ]
  },
  {
   "cell_type": "code",
   "execution_count": 17,
   "id": "60667e00",
   "metadata": {},
   "outputs": [],
   "source": [
    "symbols = open('nifty50.txt','r').readlines()"
   ]
  },
  {
   "cell_type": "code",
   "execution_count": 21,
   "id": "9d645e8f",
   "metadata": {
    "scrolled": false
   },
   "outputs": [
    {
     "name": "stdout",
     "output_type": "stream",
     "text": [
      "Getting: https://www.screener.in/api/company/search/?q=COALINDIA\n",
      "Getting: https://www.screener.in/api/company/search/?q=TATAMOTORS\n",
      "Getting: https://www.screener.in/api/company/search/?q=TATASTEEL\n",
      "Getting: https://www.screener.in/api/company/search/?q=ADANIPORTS\n",
      "Getting: https://www.screener.in/api/company/search/?q=INDUSINDBK\n",
      "Getting: https://www.screener.in/api/company/search/?q=BAJFINANCE\n",
      "Getting: https://www.screener.in/api/company/search/?q=JSWSTEEL\n",
      "Getting: https://www.screener.in/api/company/search/?q=DIVISLAB\n",
      "Getting: https://www.screener.in/api/company/search/?q=TATACONSUM\n",
      "Getting: https://www.screener.in/api/company/search/?q=NTPC\n",
      "Getting: https://www.screener.in/api/company/search/?q=TECHM\n",
      "Getting: https://www.screener.in/api/company/search/?q=AXISBANK\n",
      "Getting: https://www.screener.in/api/company/search/?q=KOTAKBANK\n",
      "Getting: https://www.screener.in/api/company/search/?q=TCS\n",
      "Getting: https://www.screener.in/api/company/search/?q=SHREECEM\n",
      "Getting: https://www.screener.in/api/company/search/?q=POWERGRID\n",
      "Getting: https://www.screener.in/api/company/search/?q=WIPRO\n",
      "Getting: https://www.screener.in/api/company/search/?q=ICICIBANK\n",
      "Getting: https://www.screener.in/api/company/search/?q=UPL\n",
      "Getting: https://www.screener.in/api/company/search/?q=BAJAJFINSV\n",
      "Getting: https://www.screener.in/api/company/search/?q=CIPLA\n",
      "Getting: https://www.screener.in/api/company/search/?q=HINDALCO\n",
      "Getting: https://www.screener.in/api/company/search/?q=HCLTECH\n",
      "Getting: https://www.screener.in/api/company/search/?q=HEROMOTOCO\n",
      "Getting: https://www.screener.in/api/company/search/?q=ITC\n",
      "Getting: https://www.screener.in/api/company/search/?q=BHARTIARTL\n",
      "Getting: https://www.screener.in/api/company/search/?q=HDFCBANK\n",
      "Getting: https://www.screener.in/api/company/search/?q=TITAN\n",
      "Getting: https://www.screener.in/api/company/search/?q=HDFC\n",
      "Getting: https://www.screener.in/api/company/search/?q=SBIN\n",
      "Getting: https://www.screener.in/api/company/search/?q=ULTRACEMCO\n",
      "Getting: https://www.screener.in/api/company/search/?q=IOC\n",
      "Getting: https://www.screener.in/api/company/search/?q=DRREDDY\n",
      "Getting: https://www.screener.in/api/company/search/?q=GRASIM\n",
      "Getting: https://www.screener.in/api/company/search/?q=ONGC\n",
      "Getting: https://www.screener.in/api/company/search/?q=MARUTI\n",
      "Getting: https://www.screener.in/api/company/search/?q=ASIANPAINT\n",
      "Getting: https://www.screener.in/api/company/search/?q=M&M\n",
      "Getting: https://www.screener.in/api/company/search/?q=SUNPHARMA\n",
      "Getting: https://www.screener.in/api/company/search/?q=LT\n",
      "Getting: https://www.screener.in/api/company/search/?q=RELIANCE\n",
      "Getting: https://www.screener.in/api/company/search/?q=HDFCLIFE\n",
      "Getting: https://www.screener.in/api/company/search/?q=INFY\n",
      "Getting: https://www.screener.in/api/company/search/?q=BPCL\n",
      "Getting: https://www.screener.in/api/company/search/?q=BAJAJ-AUTO\n",
      "Error: https://www.screener.in/api/company/search/?q=BAJAJ-AUTO\n",
      "Getting: https://www.screener.in/api/company/search/?q=EICHERMOT\n",
      "Getting: https://www.screener.in/api/company/search/?q=SBILIFE\n",
      "Getting: https://www.screener.in/api/company/search/?q=HINDUNILVR\n",
      "Getting: https://www.screener.in/api/company/search/?q=NESTLEIND\n",
      "Getting: https://www.screener.in/api/company/search/?q=BRITANNIA\n"
     ]
    }
   ],
   "source": [
    "data = []\n",
    "for symbol in symbols:\n",
    "    api = \"https://www.screener.in/api/company/search/?q=\" + symbol.strip()\n",
    "    print(\"Getting: \" + api)\n",
    "    try:\n",
    "        d = urlread(api)\n",
    "        j = json.loads(d)[0] \n",
    "        data.append(j)\n",
    "    except:\n",
    "        print(\"Error: \" + api)\n",
    "    "
   ]
  },
  {
   "cell_type": "code",
   "execution_count": 25,
   "id": "a07f07e2",
   "metadata": {},
   "outputs": [],
   "source": [
    "import csv"
   ]
  },
  {
   "cell_type": "code",
   "execution_count": 26,
   "id": "cb4e4040",
   "metadata": {},
   "outputs": [],
   "source": [
    "with open(\"links.csv\",\"w\",newline=\"\") as f:  \n",
    "    title = \"id,name,url\".split(\",\")\n",
    "    cw = csv.DictWriter(f,title,delimiter=',', quotechar='|', quoting=csv.QUOTE_MINIMAL)\n",
    "    cw.writeheader()\n",
    "    cw.writerows(data)"
   ]
  },
  {
   "cell_type": "code",
   "execution_count": 28,
   "id": "aeda1110",
   "metadata": {},
   "outputs": [
    {
     "data": {
      "text/plain": [
       "'/company/TATAMOTORS/consolidated/'"
      ]
     },
     "execution_count": 28,
     "metadata": {},
     "output_type": "execute_result"
    }
   ],
   "source": [
    "data[1]['url']"
   ]
  },
  {
   "cell_type": "code",
   "execution_count": 31,
   "id": "0ede161e",
   "metadata": {},
   "outputs": [],
   "source": [
    "html = urlread('https://www.screener.in' + data[1]['url'])"
   ]
  },
  {
   "cell_type": "code",
   "execution_count": 32,
   "id": "9b0d42d5",
   "metadata": {},
   "outputs": [],
   "source": [
    "import re"
   ]
  },
  {
   "cell_type": "code",
   "execution_count": 39,
   "id": "0bc67e1c",
   "metadata": {},
   "outputs": [],
   "source": [
    "rexp = 'formaction=.\\/user\\/company\\/export/([0-9]+)\\/.'"
   ]
  },
  {
   "cell_type": "code",
   "execution_count": 40,
   "id": "cc75c60b",
   "metadata": {},
   "outputs": [],
   "source": [
    "results = re.findall(rexp,html)"
   ]
  },
  {
   "cell_type": "code",
   "execution_count": 43,
   "id": "1f9d3c15",
   "metadata": {},
   "outputs": [],
   "source": [
    "warehouseid = results[0]"
   ]
  },
  {
   "cell_type": "code",
   "execution_count": 67,
   "id": "470112ff",
   "metadata": {},
   "outputs": [
    {
     "name": "stdout",
     "output_type": "stream",
     "text": [
      "Getting: https://www.screener.in/api/company/search/?q=COALINDIA\n",
      "\n",
      "Warehouse Id = 6595259\n",
      "Getting: https://www.screener.in/api/company/search/?q=TATAMOTORS\n",
      "\n",
      "Warehouse Id = 6599235\n",
      "Getting: https://www.screener.in/api/company/search/?q=TATASTEEL\n",
      "\n",
      "Warehouse Id = 6599238\n",
      "Getting: https://www.screener.in/api/company/search/?q=ADANIPORTS\n",
      "\n",
      "Warehouse Id = 6594426\n",
      "Getting: https://www.screener.in/api/company/search/?q=INDUSINDBK\n",
      "\n",
      "Warehouse Id = 1788\n",
      "Getting: https://www.screener.in/api/company/search/?q=BAJFINANCE\n",
      "\n",
      "Warehouse Id = 6594851\n",
      "Getting: https://www.screener.in/api/company/search/?q=JSWSTEEL\n",
      "\n",
      "Warehouse Id = 6596816\n",
      "Getting: https://www.screener.in/api/company/search/?q=DIVISLAB\n",
      "\n",
      "Warehouse Id = 6595613\n",
      "Getting: https://www.screener.in/api/company/search/?q=TATACONSUM\n",
      "\n",
      "Warehouse Id = 6599232\n",
      "Getting: https://www.screener.in/api/company/search/?q=NTPC\n",
      "\n",
      "Warehouse Id = 6597657\n",
      "Getting: https://www.screener.in/api/company/search/?q=TECHM\n",
      "\n",
      "Warehouse Id = 6599866\n",
      "Getting: https://www.screener.in/api/company/search/?q=AXISBANK\n",
      "\n",
      "Warehouse Id = 6594837\n",
      "Getting: https://www.screener.in/api/company/search/?q=KOTAKBANK\n",
      "\n",
      "Warehouse Id = 6597025\n",
      "Getting: https://www.screener.in/api/company/search/?q=TCS\n",
      "\n",
      "Warehouse Id = 6599230\n",
      "Getting: https://www.screener.in/api/company/search/?q=SHREECEM\n",
      "\n",
      "Warehouse Id = 393\n",
      "Getting: https://www.screener.in/api/company/search/?q=POWERGRID\n",
      "\n",
      "Warehouse Id = 6598025\n",
      "Getting: https://www.screener.in/api/company/search/?q=WIPRO\n",
      "\n",
      "Warehouse Id = 6599824\n",
      "Getting: https://www.screener.in/api/company/search/?q=ICICIBANK\n",
      "\n",
      "Warehouse Id = 6596413\n",
      "Getting: https://www.screener.in/api/company/search/?q=UPL\n",
      "\n",
      "Warehouse Id = 6599458\n",
      "Getting: https://www.screener.in/api/company/search/?q=BAJAJFINSV\n",
      "\n",
      "Warehouse Id = 6594852\n",
      "Getting: https://www.screener.in/api/company/search/?q=CIPLA\n",
      "\n",
      "Warehouse Id = 6595253\n",
      "Getting: https://www.screener.in/api/company/search/?q=HINDALCO\n",
      "\n",
      "Warehouse Id = 6596253\n",
      "Getting: https://www.screener.in/api/company/search/?q=HCLTECH\n",
      "\n",
      "Warehouse Id = 6596236\n",
      "Getting: https://www.screener.in/api/company/search/?q=HEROMOTOCO\n",
      "\n",
      "Warehouse Id = 6596243\n",
      "Getting: https://www.screener.in/api/company/search/?q=ITC\n",
      "\n",
      "Warehouse Id = 6596626\n",
      "Getting: https://www.screener.in/api/company/search/?q=BHARTIARTL\n",
      "\n",
      "Warehouse Id = 6595023\n",
      "Getting: https://www.screener.in/api/company/search/?q=HDFCBANK\n",
      "\n",
      "Warehouse Id = 6596237\n",
      "Getting: https://www.screener.in/api/company/search/?q=TITAN\n",
      "\n",
      "Warehouse Id = 6599273\n",
      "Getting: https://www.screener.in/api/company/search/?q=HDFC\n",
      "\n",
      "Warehouse Id = 6596237\n",
      "Getting: https://www.screener.in/api/company/search/?q=SBIN\n",
      "\n",
      "Warehouse Id = 6598877\n",
      "Getting: https://www.screener.in/api/company/search/?q=ULTRACEMCO\n",
      "\n",
      "Warehouse Id = 6599447\n",
      "Getting: https://www.screener.in/api/company/search/?q=IOC\n",
      "\n",
      "Warehouse Id = 6596449\n",
      "Getting: https://www.screener.in/api/company/search/?q=DRREDDY\n",
      "\n",
      "Warehouse Id = 6595620\n",
      "Getting: https://www.screener.in/api/company/search/?q=GRASIM\n",
      "\n",
      "Warehouse Id = 6596053\n",
      "Getting: https://www.screener.in/api/company/search/?q=ONGC\n",
      "\n",
      "Warehouse Id = 6597668\n",
      "Getting: https://www.screener.in/api/company/search/?q=MARUTI\n",
      "\n",
      "Warehouse Id = 6597252\n",
      "Getting: https://www.screener.in/api/company/search/?q=ASIANPAINT\n",
      "\n",
      "Warehouse Id = 6594812\n",
      "Getting: https://www.screener.in/api/company/search/?q=M&M\n",
      "\n",
      "Warehouse Id = 6597252\n",
      "Getting: https://www.screener.in/api/company/search/?q=SUNPHARMA\n",
      "\n",
      "Warehouse Id = 6599038\n",
      "Getting: https://www.screener.in/api/company/search/?q=LT\n",
      "\n",
      "Warehouse Id = 6597052\n",
      "Getting: https://www.screener.in/api/company/search/?q=RELIANCE\n",
      "\n",
      "Error: https://www.screener.in/api/company/search/?q=RELIANCE\n",
      "\n",
      "Getting: https://www.screener.in/api/company/search/?q=HDFCLIFE\n",
      "\n",
      "Warehouse Id = 17832650\n",
      "Getting: https://www.screener.in/api/company/search/?q=INFY\n",
      "\n",
      "Error: https://www.screener.in/api/company/search/?q=INFY\n",
      "\n",
      "Getting: https://www.screener.in/api/company/search/?q=BPCL\n",
      "\n",
      "Warehouse Id = 6595020\n",
      "Getting: https://www.screener.in/api/company/search/?q=BAJAJ-AUTO\n",
      "\n",
      "Error: https://www.screener.in/api/company/search/?q=BAJAJ-AUTO\n",
      "\n",
      "Getting: https://www.screener.in/api/company/search/?q=EICHERMOT\n",
      "\n",
      "Error: https://www.screener.in/api/company/search/?q=EICHERMOT\n",
      "\n",
      "Getting: https://www.screener.in/api/company/search/?q=SBILIFE\n",
      "\n",
      "Warehouse Id = 17087873\n",
      "Getting: https://www.screener.in/api/company/search/?q=HINDUNILVR\n",
      "\n",
      "Error: https://www.screener.in/api/company/search/?q=HINDUNILVR\n",
      "\n",
      "Getting: https://www.screener.in/api/company/search/?q=NESTLEIND\n",
      "\n",
      "Warehouse Id = 331\n",
      "Getting: https://www.screener.in/api/company/search/?q=BRITANNIA\n",
      "Error: https://www.screener.in/api/company/search/?q=BRITANNIA\n"
     ]
    }
   ],
   "source": [
    "data = []\n",
    "rexp = 'formaction=.\\/user\\/company\\/export/([0-9]+)\\/.'\n",
    "\n",
    "for symbol in symbols:\n",
    "    api = \"https://www.screener.in/api/company/search/?q=\" + symbol\n",
    "    print(\"Getting: \" + api)\n",
    "    try:\n",
    "        d = urlread(api)\n",
    "        j = json.loads(d)[0]\n",
    "        html = urlread('https://www.screener.in' + j['url'])        \n",
    "        results = re.findall(rexp,html)\n",
    "        print(\"Warehouse Id = \" + results[0])      \n",
    "        j['warehouse'] = results[0]\n",
    "        data.append(j)\n",
    "    except:\n",
    "        print(\"Error: \" + api)"
   ]
  },
  {
   "cell_type": "code",
   "execution_count": 62,
   "id": "46308527",
   "metadata": {},
   "outputs": [],
   "source": [
    "rexp = 'formaction=.\\/user\\/company\\/export/([0-9]+)\\/.'"
   ]
  },
  {
   "cell_type": "code",
   "execution_count": 63,
   "id": "10455e32",
   "metadata": {},
   "outputs": [
    {
     "data": {
      "text/plain": [
       "['6595259']"
      ]
     },
     "execution_count": 63,
     "metadata": {},
     "output_type": "execute_result"
    }
   ],
   "source": [
    "results = re.findall(rexp,html)\n",
    "results"
   ]
  },
  {
   "cell_type": "code",
   "execution_count": 70,
   "id": "b3a44132",
   "metadata": {},
   "outputs": [],
   "source": [
    "with open(\"links.csv\",\"w\",newline=\"\") as f:  \n",
    "    title = \"id,name,url,warehouse\".split(\",\")\n",
    "    cw = csv.DictWriter(f,title,delimiter=',', quotechar='|', quoting=csv.QUOTE_MINIMAL)\n",
    "    cw.writeheader()\n",
    "    cw.writerows(data)"
   ]
  },
  {
   "cell_type": "code",
   "execution_count": 1,
   "id": "724ca9b2",
   "metadata": {},
   "outputs": [],
   "source": []
  },
  {
   "cell_type": "code",
   "execution_count": 9,
   "id": "5c51dd53",
   "metadata": {},
   "outputs": [],
   "source": [
    "import requests"
   ]
  },
  {
   "cell_type": "code",
   "execution_count": null,
   "id": "58466ec7",
   "metadata": {},
   "outputs": [],
   "source": [
    "#!pip3 install browser-cookie3\n"
   ]
  },
  {
   "cell_type": "code",
   "execution_count": 19,
   "id": "f9f8c761",
   "metadata": {},
   "outputs": [],
   "source": [
    "import browser_cookie3"
   ]
  },
  {
   "cell_type": "code",
   "execution_count": 42,
   "id": "aade6349",
   "metadata": {},
   "outputs": [
    {
     "data": {
      "text/plain": [
       "'C:\\\\Users\\\\J\\\\AppData\\\\Local\\\\Google\\\\Chrome\\\\User Data\\\\Profile 2\\\\Network\\\\Cookies'"
      ]
     },
     "execution_count": 42,
     "metadata": {},
     "output_type": "execute_result"
    }
   ],
   "source": [
    "import os\n",
    "cookie = os.path.join(os.getenv('LOCALAPPDATA', '') + r'\\Google\\Chrome\\User Data\\Profile 2\\Network\\Cookies')\n",
    "cookie"
   ]
  },
  {
   "cell_type": "code",
   "execution_count": 47,
   "id": "e9f8f88f",
   "metadata": {},
   "outputs": [],
   "source": [
    "cj = browser_cookie3.chrome(cookie_file = cookie)\n",
    "#cj = browser_cookie3.chrome(domain_name='screener.in', cookie_file = cookie)\n",
    "#cj"
   ]
  },
  {
   "cell_type": "code",
   "execution_count": 32,
   "id": "60b4d91c",
   "metadata": {},
   "outputs": [],
   "source": [
    "r = requests.get('https://www.screener.in/user/company/export/6599235/', cookies=cj)"
   ]
  },
  {
   "cell_type": "code",
   "execution_count": 35,
   "id": "0b666f74",
   "metadata": {},
   "outputs": [],
   "source": [
    "r = requests.get('https://www.screener.in/user/company/export/6599235/', cookies=cj, allow_redirects=True)"
   ]
  },
  {
   "cell_type": "code",
   "execution_count": null,
   "id": "7b872d19",
   "metadata": {},
   "outputs": [],
   "source": [
    "r.content"
   ]
  },
  {
   "cell_type": "code",
   "execution_count": 37,
   "id": "886bd1c5",
   "metadata": {},
   "outputs": [],
   "source": [
    "headers = {\n",
    "    \"accept\": \"text/html,application/xhtml+xml,application/xml;q=0.9,image/avif,image/webp,image/apng,*/*;q=0.8,application/signed-exchange;v=b3;q=0.9\",\n",
    "    \"accept-language\": \"en-US,en;q=0.9,hi;q=0.8\",\n",
    "    \"cache-control\": \"max-age=0\",\n",
    "    \"content-type\": \"application/x-www-form-urlencoded\",\n",
    "    \"sec-ch-ua\": \"\\\" Not A;Brand\\\";v=\\\"99\\\", \\\"Chromium\\\";v=\\\"98\\\", \\\"Google Chrome\\\";v=\\\"98\\\"\",\n",
    "    \"sec-ch-ua-mobile\": \"?0\",\n",
    "    \"sec-ch-ua-platform\": \"\\\"Windows\\\"\",\n",
    "    \"sec-fetch-dest\": \"document\",\n",
    "    \"sec-fetch-mode\": \"navigate\",\n",
    "    \"sec-fetch-site\": \"same-origin\",\n",
    "    \"sec-fetch-user\": \"?1\",\n",
    "    \"upgrade-insecure-requests\": \"1\",\n",
    "    \"cookie\": \"csrftoken=I7FmHZfqY4duaGsB0jgi1BQFlNmifDmbdb3WEhfO897e53KW1fFpebNGUjud6bZ0; sessionid=lo8fsvlwr3w9bhpao76qeqc1rtpkyivk; _gcl_au=1.1.602809564.1645862651; _ga=GA1.2.851093248.1645862651; _gid=GA1.2.1045405136.1645862651\",\n",
    "    \"Referer\": \"https://www.screener.in/company/TATAMOTORS/consolidated/\",\n",
    "    \"Referrer-Policy\": \"no-referrer-when-downgrade\"\n",
    "  }"
   ]
  },
  {
   "cell_type": "code",
   "execution_count": null,
   "id": "e58f3e6b",
   "metadata": {},
   "outputs": [],
   "source": [
    "postdata = \"csrfmiddlewaretoken=FWEEawGRsB2dpQsyRQ8dEAr0ftrqEuUBa02e7OGfCGWXkdKTSMxkRao1OZzlv2xq&next=%2Fcompany%2FTATAMOTORS%2Fconsolidated%2F\""
   ]
  },
  {
   "cell_type": "code",
   "execution_count": 52,
   "id": "27fac0df",
   "metadata": {},
   "outputs": [],
   "source": [
    "r = requests.post('https://www.screener.in/user/company/export/6599824/', data= data, headers=headers)"
   ]
  },
  {
   "cell_type": "code",
   "execution_count": 53,
   "id": "e19622da",
   "metadata": {},
   "outputs": [],
   "source": [
    "path = '6599235.xlsx'\n",
    "if r.status_code == 200:\n",
    "    with open(path, 'wb') as f:\n",
    "        for chunk in r:\n",
    "            f.write(chunk)"
   ]
  },
  {
   "cell_type": "code",
   "execution_count": null,
   "id": "080a39f2",
   "metadata": {},
   "outputs": [],
   "source": []
  }
 ],
 "metadata": {
  "kernelspec": {
   "display_name": "Python 3 (ipykernel)",
   "language": "python",
   "name": "python3"
  },
  "language_info": {
   "codemirror_mode": {
    "name": "ipython",
    "version": 3
   },
   "file_extension": ".py",
   "mimetype": "text/x-python",
   "name": "python",
   "nbconvert_exporter": "python",
   "pygments_lexer": "ipython3",
   "version": "3.8.10"
  }
 },
 "nbformat": 4,
 "nbformat_minor": 5
}
